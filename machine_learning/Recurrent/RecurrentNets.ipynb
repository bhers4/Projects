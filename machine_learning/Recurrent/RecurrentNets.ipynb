{
 "cells": [
  {
   "cell_type": "code",
   "execution_count": 1,
   "metadata": {},
   "outputs": [],
   "source": [
    "import torch\n",
    "import torch.nn as nn"
   ]
  },
  {
   "cell_type": "code",
   "execution_count": 3,
   "metadata": {},
   "outputs": [
    {
     "name": "stdout",
     "output_type": "stream",
     "text": [
      "1259\n",
      "1259\n",
      "1259\n",
      "1259\n",
      "1259\n",
      "1259\n",
      "1259\n",
      "Hello\n"
     ]
    }
   ],
   "source": [
    "# Get the data\n",
    "stock_csv = open(\"AAPL.csv\", \"r\")\n",
    "header = stock_csv.readline()\n",
    "data = {}\n",
    "for item in header.split(\",\"):\n",
    "    data[item.strip()] = []\n",
    "for line in stock_csv:\n",
    "    line = line.split(\",\")\n",
    "    data['Date'].append(line[0])\n",
    "    data['Open'].append(float(line[1]))\n",
    "    data['High'].append(float(line[2]))\n",
    "    data['Low'].append(float(line[3]))\n",
    "    data['Close'].append(float(line[4]))\n",
    "    data['Adj Close'].append(float(line[5]))\n",
    "    data['Volume'].append(int(line[6].strip()))\n",
    "\n",
    "for item in data.keys():\n",
    "    print(len(data[item]))\n",
    "print(\"Hello\")"
   ]
  },
  {
   "cell_type": "code",
   "execution_count": null,
   "metadata": {},
   "outputs": [],
   "source": []
  }
 ],
 "metadata": {
  "kernelspec": {
   "display_name": "Python 3",
   "language": "python",
   "name": "python3"
  },
  "language_info": {
   "codemirror_mode": {
    "name": "ipython",
    "version": 3
   },
   "file_extension": ".py",
   "mimetype": "text/x-python",
   "name": "python",
   "nbconvert_exporter": "python",
   "pygments_lexer": "ipython3",
   "version": "3.6.9"
  }
 },
 "nbformat": 4,
 "nbformat_minor": 4
}